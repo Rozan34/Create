**Code Explanation:**
- Creates a comprehensive summary of the booking system
- Displays system statistics (number of tutors, bookings, etc.)
- Provides usage instructions for users
- Lists all available features
- Uses dynamic content by inserting actual counts from the system# Display system summary
summary_html = f"""
<div style="font-family: Arial, sans-serif; max-width: 800px; margin: 20px auto; padding: 20px; border: 2px solid #4CAF50; border-radius: 10px; background-color: #f0f8f0;">
    <h2 style="color: #2E7D32; text-align: center;">🎓 Tutoring Booking System - Summary</h2>
    
    <div style="background-color: white; padding: 15px; border-radius: 8px; margin: 15px 0;">
        <h3 style="color: #555;">📊 System Statistics:</h3>
        <ul style="color: #333;">
            <li><strong>Total Tutors:</strong> {len(tutors_df)}</li>
            <li><strong>Total Bookings:</strong> {len(bookings)}</li>
            <li><strong>Locations Covered:</strong> Springfield, Greater Ipswich</li>
            <li><strong>Subjects Available:</strong> Mathematics, Physics, English Literature, Chemistry, Biology, History</li>
        </ul>
    </div>
    
    <div style="background-color: white; padding: 15px; border-radius: 8px; margin: 15px 0;">
        <h3 style="color: #555;">🚀 How to Use:</h3>
        <ol style="color: #333;">
            <li>Select your location (Springfield or Greater Ipswich)</li>
            <li>Choose a tutor from the filtered list</li>
            <li>Pick an available time slot</li>
            <li>Enter your name and email</li>
            <li>Click "Book Session" to confirm</li>
        </ol>
    </div>
    
    <div style="background-color: white; padding: 15px; border-radius: 8px; margin: 15px 0;">
        <h3 style="color: #555;">💡 Features:</h3>
        <ul style="color: #333;">
            <li>✅ Location-based tutor filtering</li>
            <li>✅ Real-time availability checking</li>
            <li>✅ Interactive booking forms</li>
            <li>✅ Booking confirmation system</li>
            <li>✅ Data persistence in Python</li>
            <li>✅ Two interface options (HTML & Widgets)</li>
        </ul>
    </div>
    
    <div style="text-align: center; margin-top: 20px;">
        <p style="color: #666; font-style: italic;">Ready to book your tutoring session? Use the interfaces above! 📚</p>
    </div>
</div>
"""

display(HTML(summary_html))## 10. System Summary and Usage Instructions

Display a summary of the booking system.**Code Explanation:**
- This creates an alternative interface using ipywidgets instead of HTML
- `widgets.Dropdown()`: Creates dropdown menus for location, tutor, and time slot selection
- `widgets.Text()`: Creates text input fields for student name and email
- `widgets.Button()`: Creates a submit button
- `widgets.Output()`: Creates an output area for displaying results
- Event handlers (`observe()` and `on_click()`) link the widgets together
- The interface updates dynamically as users make selectionsdef create_widget_interface():
    """Create an interactive widget-based booking interface"""
    
    # Create widgets
    location_widget = widgets.Dropdown(
        options=['', 'Springfield', 'Greater Ipswich'],
        value='',
        description='Location:',
        style={'description_width': 'initial'}
    )
    
    tutor_widget = widgets.Dropdown(
        options=[''],
        value='',
        description='Tutor:',
        style={'description_width': 'initial'}
    )
    
    time_slot_widget = widgets.Dropdown(
        options=[''],
        value='',
        description='Time Slot:',
        style={'description_width': 'initial'}
    )
    
    student_name_widget = widgets.Text(
        value='',
        placeholder='Enter your full name',
        description='Name:',
        style={'description_width': 'initial'}
    )
    
    email_widget = widgets.Text(
        value='',
        placeholder='Enter your email',
        description='Email:',
        style={'description_width': 'initial'}
    )
    
    book_button = widgets.Button(
        description='📅 Book Session',
        button_style='success',
        layout=widgets.Layout(width='200px')
    )
    
    output_widget = widgets.Output()
    
    def update_tutors(change):
        """Update tutor options based on location"""
        location = change['new']
        if location:
            filtered_tutors = tutors_df[tutors_df['location'] == location]
            tutor_options = [''] + [f"{row['name']} - {row['subject']} (ID: {row['id']})" for _, row in filtered_tutors.iterrows()]
            tutor_widget.options = tutor_options
        else:
            tutor_widget.options = ['']
        tutor_widget.value = ''
        time_slot_widget.options = ['']
        time_slot_widget.value = ''
    
    def update_time_slots(change):
        """Update time slot options based on tutor"""
        tutor_selection = change['new']
        if tutor_selection and tutor_selection != '':
            # Extract tutor ID from the selection
            tutor_id = int(tutor_selection.split('ID: ')[1].split(')')[0])
            tutor = tutors_df[tutors_df['id'] == tutor_id].iloc[0]
            time_slot_widget.options = [''] + tutor['availability']
        else:
            time_slot_widget.options = ['']
        time_slot_widget.value = ''
    
    def book_session(button):
        """Handle booking submission"""
        with output_widget:
            clear_output()
            
            # Validate inputs
            if not all([location_widget.value, tutor_widget.value, time_slot_widget.value, 
                       student_name_widget.value, email_widget.value]):
                print("❌ Please fill in all fields!")
                return
            
            # Extract tutor ID
            tutor_id = int(tutor_widget.value.split('ID: ')[1].split(')')[0])
            
            # Create booking
            booking = add_booking(
                student_name=student_name_widget.value,
                email=email_widget.value,
                tutor_id=tutor_id,
                time_slot=time_slot_widget.value,
                location=location_widget.value
            )
            
            # Display confirmation
            print("✅ Booking Confirmed!")
            print(f"Booking ID: {booking['booking_id']}")
            print(f"Student: {booking['student_name']}")
            print(f"Tutor: {booking['tutor_name']}")
            print(f"Subject: {booking['tutor_subject']}")
            print(f"Time: {booking['time_slot']}")
            print(f"Location: {booking['location']}")
            
            # Reset form
            location_widget.value = ''
            tutor_widget.options = ['']
            tutor_widget.value = ''
            time_slot_widget.options = ['']
            time_slot_widget.value = ''
            student_name_widget.value = ''
            email_widget.value = ''
    
    # Link widgets
    location_widget.observe(update_tutors, names='value')
    tutor_widget.observe(update_time_slots, names='value')
    book_button.on_click(book_session)
    
    # Create layout
    form_widgets = widgets.VBox([
        widgets.HTML("<h3>📚 Tutoring Booking System (Widget Version)</h3>"),
        location_widget,
        tutor_widget,
        time_slot_widget,
        student_name_widget,
        email_widget,
        book_button,
        output_widget
    ])
    
    return form_widgets

# Display the widget interface
display(create_widget_interface())## 9. Interactive Widget Version (Alternative Interface)

Create an alternative interface using ipywidgets for a more native Jupyter experience.**Code Explanation:**
- `get_tutors_by_location()` filters the tutors DataFrame by location
- We display only relevant columns for better readability
- This demonstrates how the location filter works in the booking system# Demo: Filter tutors by location
print("🏠 Tutors in Springfield:")
springfield_tutors = get_tutors_by_location("Springfield")
display(springfield_tutors[['name', 'subject', 'availability', 'rating']])

print("\n🏠 Tutors in Greater Ipswich:")
ipswich_tutors = get_tutors_by_location("Greater Ipswich")
display(ipswich_tutors[['name', 'subject', 'availability', 'rating']])## 8. Location-Based Tutor Filtering Demo

Demonstrate how to filter tutors by location.**Code Explanation:**
- `get_bookings()` returns all bookings as a DataFrame
- We check if the DataFrame is empty before displaying
- `display()` renders the DataFrame in a nice table format# Display all bookings
bookings_df = get_bookings()

if not bookings_df.empty:
    print("📋 All Bookings:")
    display(bookings_df)
else:
    print("No bookings found.")## 7. View All Bookings

Display all bookings in a formatted table.**Code Explanation:**
- We call the `add_booking()` function with sample data
- The function returns the created booking object
- We display the booking details to confirm it was created successfully# Demo: Make a test booking
print("Making a test booking...")

# Add a sample booking
test_booking = add_booking(
    student_name="John Smith",
    email="john.smith@email.com",
    tutor_id=1,  # Sarah Johnson
    time_slot="Wednesday 4PM-8PM",
    location="Springfield"
)

print("\n✅ Test booking created successfully!")
print(f"Booking ID: {test_booking['booking_id']}")
print(f"Student: {test_booking['student_name']}")
print(f"Tutor: {test_booking['tutor_name']}")
print(f"Subject: {test_booking['tutor_subject']}")
print(f"Time: {test_booking['time_slot']}")
print(f"Location: {test_booking['location']}")## 6. Demo: Make a Test Booking

Let's demonstrate the booking system with a sample booking.**Code Explanation:**
- `add_booking()`: Creates a new booking record with all necessary details and adds it to the bookings list
- `get_bookings()`: Returns all bookings as a pandas DataFrame for easy viewing
- `get_tutors_by_location()`: Filters tutors based on the selected location
- `get_tutor_availability()`: Retrieves available time slots for a specific tutor
- Each function uses pandas operations for data manipulationdef add_booking(student_name, email, tutor_id, time_slot, location):
    """Add a new booking to the system"""
    global booking_counter
    
    # Find tutor details
    tutor = tutors_df[tutors_df['id'] == tutor_id].iloc[0]
    
    # Create booking record
    booking = {
        'booking_id': booking_counter,
        'student_name': student_name,
        'email': email,
        'tutor_name': tutor['name'],
        'tutor_subject': tutor['subject'],
        'location': location,
        'time_slot': time_slot,
        'booking_date': datetime.now().strftime('%Y-%m-%d'),
        'booking_time': datetime.now().strftime('%H:%M:%S')
    }
    
    # Add to bookings list
    bookings.append(booking)
    booking_counter += 1
    
    return booking

def get_bookings():
    """Get all bookings as a DataFrame"""
    if not bookings:
        return pd.DataFrame()
    return pd.DataFrame(bookings)

def get_tutors_by_location(location):
    """Get tutors filtered by location"""
    return tutors_df[tutors_df['location'] == location]

def get_tutor_availability(tutor_id):
    """Get availability for a specific tutor"""
    tutor = tutors_df[tutors_df['id'] == tutor_id]
    if not tutor.empty:
        return tutor.iloc[0]['availability']
    return []

print("Booking functions defined successfully!")## 5. Python Backend for Booking Processing

Create functions to handle booking data in Python.**Code Explanation:**
- `create_booking_interface()`: Function that generates the complete HTML booking form
- The HTML includes: location dropdown, tutor selection, time slot selection, student details, and submit button
- JavaScript handles: dynamic filtering of tutors by location, updating time slots based on tutor selection, form validation, and booking confirmation
- The form uses modern CSS styling for a professional appearance
- `HTML()` function from IPython.display renders the HTML content in the notebookdef create_booking_interface():
    """Create and display the booking interface"""
    
    # Get unique locations for the dropdown
    locations = tutors_df['location'].unique().tolist()
    
    # Create HTML for the booking form
    html_content = f"""
    <div style="font-family: Arial, sans-serif; max-width: 800px; margin: 20px auto; padding: 20px; border: 1px solid #ddd; border-radius: 10px; background-color: #f9f9f9;">
        <h2 style="color: #333; text-align: center; margin-bottom: 30px;">📚 Tutoring Booking System</h2>
        
        <div style="background-color: white; padding: 20px; border-radius: 8px; box-shadow: 0 2px 4px rgba(0,0,0,0.1);">
            <h3 style="color: #555; margin-bottom: 20px;">Book a Tutoring Session</h3>
            
            <form id="bookingForm" style="display: flex; flex-direction: column; gap: 15px;">
                <div>
                    <label for="location" style="display: block; margin-bottom: 5px; font-weight: bold;">📍 Select Location:</label>
                    <select id="location" name="location" style="width: 100%; padding: 8px; border: 1px solid #ccc; border-radius: 4px; font-size: 14px;">
                        <option value="">Choose your location...</option>
                        <option value="Springfield">Springfield</option>
                        <option value="Greater Ipswich">Greater Ipswich</option>
                    </select>
                </div>
                
                <div>
                    <label for="tutor" style="display: block; margin-bottom: 5px; font-weight: bold;">👨‍🏫 Select Tutor:</label>
                    <select id="tutor" name="tutor" style="width: 100%; padding: 8px; border: 1px solid #ccc; border-radius: 4px; font-size: 14px;">
                        <option value="">Choose a tutor...</option>
                    </select>
                </div>
                
                <div>
                    <label for="timeSlot" style="display: block; margin-bottom: 5px; font-weight: bold;">⏰ Select Time Slot:</label>
                    <select id="timeSlot" name="timeSlot" style="width: 100%; padding: 8px; border: 1px solid #ccc; border-radius: 4px; font-size: 14px;">
                        <option value="">Choose a time slot...</option>
                    </select>
                </div>
                
                <div>
                    <label for="studentName" style="display: block; margin-bottom: 5px; font-weight: bold;">👤 Your Name:</label>
                    <input type="text" id="studentName" name="studentName" placeholder="Enter your full name" style="width: 100%; padding: 8px; border: 1px solid #ccc; border-radius: 4px; font-size: 14px; box-sizing: border-box;">
                </div>
                
                <div>
                    <label for="email" style="display: block; margin-bottom: 5px; font-weight: bold;">📧 Email:</label>
                    <input type="email" id="email" name="email" placeholder="Enter your email" style="width: 100%; padding: 8px; border: 1px solid #ccc; border-radius: 4px; font-size: 14px; box-sizing: border-box;">
                </div>
                
                <button type="submit" style="background-color: #4CAF50; color: white; padding: 12px 24px; border: none; border-radius: 4px; cursor: pointer; font-size: 16px; font-weight: bold; margin-top: 10px;">
                    📅 Book Session
                </button>
            </form>
        </div>
        
        <div id="confirmation" style="margin-top: 20px; padding: 15px; border-radius: 8px; display: none;"></div>
    </div>
    
    <script>
        // Tutor data for JavaScript
        const tutorsData = {json.dumps(tutors_data)};
        
        // Function to update tutor dropdown based on location
        function updateTutors() {{
            const location = document.getElementById('location').value;
            const tutorSelect = document.getElementById('tutor');
            const timeSlotSelect = document.getElementById('timeSlot');
            
            // Clear existing options
            tutorSelect.innerHTML = '<option value="">Choose a tutor...</option>';
            timeSlotSelect.innerHTML = '<option value="">Choose a time slot...</option>';
            
            if (location) {{
                // Filter tutors by location
                const filteredTutors = tutorsData.filter(tutor => tutor.location === location);
                
                filteredTutors.forEach(tutor => {{
                    const option = document.createElement('option');
                    option.value = tutor.id;
                    option.textContent = `${{tutor.name}} - ${{tutor.subject}} (⭐ ${{tutor.rating}})`;
                    tutorSelect.appendChild(option);
                }});
            }}
        }}
        
        // Function to update time slots based on selected tutor
        function updateTimeSlots() {{
            const tutorId = parseInt(document.getElementById('tutor').value);
            const timeSlotSelect = document.getElementById('timeSlot');
            
            // Clear existing options
            timeSlotSelect.innerHTML = '<option value="">Choose a time slot...</option>';
            
            if (tutorId) {{
                const tutor = tutorsData.find(t => t.id === tutorId);
                if (tutor) {{
                    tutor.availability.forEach(slot => {{
                        const option = document.createElement('option');
                        option.value = slot;
                        option.textContent = slot;
                        timeSlotSelect.appendChild(option);
                    }});
                }}
            }}
        }}
        
        // Function to handle form submission
        function handleBooking(event) {{
            event.preventDefault();
            
            const formData = new FormData(event.target);
            const location = formData.get('location');
            const tutorId = parseInt(formData.get('tutor'));
            const timeSlot = formData.get('timeSlot');
            const studentName = formData.get('studentName');
            const email = formData.get('email');
            
            // Validate form
            if (!location || !tutorId || !timeSlot || !studentName || !email) {{
                alert('Please fill in all fields!');
                return;
            }}
            
            // Find tutor details
            const tutor = tutorsData.find(t => t.id === tutorId);
            
            // Create booking object
            const booking = {{
                id: Date.now(), // Simple ID generation
                studentName: studentName,
                email: email,
                tutorName: tutor.name,
                tutorSubject: tutor.subject,
                location: location,
                timeSlot: timeSlot,
                bookingDate: new Date().toISOString().split('T')[0]
            }};
            
            // Display confirmation
            const confirmationDiv = document.getElementById('confirmation');
            confirmationDiv.innerHTML = `
                <div style="background-color: #d4edda; border: 1px solid #c3e6cb; color: #155724; padding: 15px; border-radius: 8px;">
                    <h4 style="margin: 0 0 10px 0; color: #155724;">✅ Booking Confirmed!</h4>
                    <p style="margin: 5px 0;"><strong>Student:</strong> ${{studentName}}</p>
                    <p style="margin: 5px 0;"><strong>Tutor:</strong> ${{tutor.name}}</p>
                    <p style="margin: 5px 0;"><strong>Subject:</strong> ${{tutor.subject}}</p>
                    <p style="margin: 5px 0;"><strong>Time:</strong> ${{timeSlot}}</p>
                    <p style="margin: 5px 0;"><strong>Location:</strong> ${{location}}</p>
                    <p style="margin: 5px 0;"><strong>Booking ID:</strong> ${{booking.id}}</p>
                </div>
            `;
            confirmationDiv.style.display = 'block';
            
            // Reset form
            event.target.reset();
            
            // Send booking data to Python (this would be handled by the Python backend)
            console.log('Booking data:', booking);
            
            // In a real application, you would send this data to your Python backend
            // For this demo, we'll store it in a global variable
            window.lastBooking = booking;
        }}
        
        // Add event listeners
        document.getElementById('location').addEventListener('change', updateTutors);
        document.getElementById('tutor').addEventListener('change', updateTimeSlots);
        document.getElementById('bookingForm').addEventListener('submit', handleBooking);
    </script>
    """
    
    return HTML(html_content)

# Display the booking interface
display(create_booking_interface())## 4. Create Interactive Booking Interface

Build the HTML interface for booking sessions.**Code Explanation:**
- `bookings = []`: Empty list to store booking records
- `booking_counter = 1`: Counter to generate unique booking IDs# Initialize booking storage
bookings = []  # List to store all bookings
booking_counter = 1  # Counter for booking IDs

print("Booking system initialized!")## 3. Initialize Booking Storage

Create data structures to store bookings.**Code Explanation:**
- We create a list of dictionaries, each representing a tutor with their details
- Each tutor has: ID, name, subject expertise, location, availability times, rating, and experience
- We convert this list to a pandas DataFrame for easier data manipulation
- The `display()` function renders the DataFrame in a nice table format in Jupyter# Create sample tutor data
tutors_data = [
    {
        "id": 1,
        "name": "Sarah Johnson",
        "subject": "Mathematics",
        "location": "Springfield",
        "availability": ["Monday 2PM-6PM", "Wednesday 4PM-8PM", "Friday 3PM-7PM"],
        "rating": 4.8,
        "experience": "5 years"
    },
    {
        "id": 2,
        "name": "Michael Chen",
        "subject": "Physics",
        "location": "Springfield",
        "availability": ["Tuesday 1PM-5PM", "Thursday 2PM-6PM", "Saturday 10AM-2PM"],
        "rating": 4.9,
        "experience": "7 years"
    },
    {
        "id": 3,
        "name": "Emily Rodriguez",
        "subject": "English Literature",
        "location": "Greater Ipswich",
        "availability": ["Monday 3PM-7PM", "Wednesday 2PM-6PM", "Friday 4PM-8PM"],
        "rating": 4.7,
        "experience": "4 years"
    },
    {
        "id": 4,
        "name": "David Thompson",
        "subject": "Chemistry",
        "location": "Greater Ipswich",
        "availability": ["Tuesday 2PM-6PM", "Thursday 3PM-7PM", "Saturday 1PM-5PM"],
        "rating": 4.6,
        "experience": "6 years"
    },
    {
        "id": 5,
        "name": "Lisa Wang",
        "subject": "Biology",
        "location": "Springfield",
        "availability": ["Monday 1PM-5PM", "Wednesday 3PM-7PM", "Friday 2PM-6PM"],
        "rating": 4.8,
        "experience": "5 years"
    },
    {
        "id": 6,
        "name": "James Wilson",
        "subject": "History",
        "location": "Greater Ipswich",
        "availability": ["Tuesday 3PM-7PM", "Thursday 1PM-5PM", "Saturday 2PM-6PM"],
        "rating": 4.5,
        "experience": "3 years"
    }
]

# Convert to DataFrame for easier manipulation
tutors_df = pd.DataFrame(tutors_data)

# Display the tutor data
print("Available Tutors:")
display(tutors_df)## 2. Create Sample Tutor Dataset

We'll create a comprehensive dataset of tutors with their details.**Code Explanation:**
- `pandas`: For data manipulation and storage
- `json`: For handling JSON data structures
- `datetime`: For working with dates and times
- `IPython.display`: For rendering HTML and interactive elements in Jupyter
- `ipywidgets`: For creating interactive widgets# Import required libraries
import pandas as pd
import json
from datetime import datetime, timedelta
from IPython.display import display, HTML, clear_output
import ipywidgets as widgets
from ipywidgets import interact, interactive, fixed, interact_manual

print("Libraries imported successfully!")## 1. Import Required Libraries

First, we import the necessary libraries for our booking system.# Tutoring Booking System Prototype

This notebook demonstrates a simple tutoring booking system that integrates Python with HTML for an interactive user interface.